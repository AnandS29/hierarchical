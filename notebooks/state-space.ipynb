{
 "cells": [
  {
   "cell_type": "markdown",
   "metadata": {
    "collapsed": true
   },
   "source": [
    "## Compute some properties of the state-space matrices "
   ]
  },
  {
   "cell_type": "code",
   "execution_count": 1,
   "metadata": {},
   "outputs": [],
   "source": [
    "# file tools\n",
    "import os\n",
    "import sys\n",
    "\n",
    "# plotting tools\n",
    "import plotly\n",
    "import plotly.graph_objects as go\n",
    "\n",
    "# Core\n",
    "import numpy as np\n"
   ]
  },
  {
   "cell_type": "code",
   "execution_count": 16,
   "metadata": {},
   "outputs": [
    {
     "name": "stdout",
     "output_type": "stream",
     "text": [
      "Pole: 0.01\n",
      "avg power 4.73\n",
      "Pole: 0.05\n",
      "avg power 6.06\n",
      "Pole: 0.1\n",
      "avg power 7.38\n",
      "Pole: 0.25\n",
      "avg power 11.2\n",
      "Pole: 0.5\n",
      "avg power 21.77\n",
      "Pole: 0.75\n",
      "avg power 55.48\n",
      "Pole: 0.9\n",
      "avg power 168.29\n",
      "Pole: 1.0\n"
     ]
    },
    {
     "ename": "KeyboardInterrupt",
     "evalue": "",
     "output_type": "error",
     "traceback": [
      "\u001b[0;31m---------------------------------------------------------------------------\u001b[0m",
      "\u001b[0;31mKeyboardInterrupt\u001b[0m                         Traceback (most recent call last)",
      "\u001b[0;32m<ipython-input-16-e41c24045d0a>\u001b[0m in \u001b[0;36m<module>\u001b[0;34m\u001b[0m\n\u001b[1;32m     10\u001b[0m         \u001b[0mnp\u001b[0m\u001b[0;34m.\u001b[0m\u001b[0mfill_diagonal\u001b[0m\u001b[0;34m(\u001b[0m\u001b[0mA\u001b[0m\u001b[0;34m,\u001b[0m \u001b[0mfloat\u001b[0m\u001b[0;34m(\u001b[0m\u001b[0mpole\u001b[0m\u001b[0;34m)\u001b[0m\u001b[0;34m)\u001b[0m\u001b[0;34m\u001b[0m\u001b[0;34m\u001b[0m\u001b[0m\n\u001b[1;32m     11\u001b[0m         \u001b[0mk\u001b[0m \u001b[0;34m=\u001b[0m \u001b[0;36m1\u001b[0m\u001b[0;34m\u001b[0m\u001b[0;34m\u001b[0m\u001b[0m\n\u001b[0;32m---> 12\u001b[0;31m         \u001b[0;32mwhile\u001b[0m \u001b[0;36m2\u001b[0m\u001b[0;34m*\u001b[0m\u001b[0mnp\u001b[0m\u001b[0;34m.\u001b[0m\u001b[0mlinalg\u001b[0m\u001b[0;34m.\u001b[0m\u001b[0mnorm\u001b[0m\u001b[0;34m(\u001b[0m\u001b[0mnp\u001b[0m\u001b[0;34m.\u001b[0m\u001b[0mlinalg\u001b[0m\u001b[0;34m.\u001b[0m\u001b[0mmatrix_power\u001b[0m\u001b[0;34m(\u001b[0m\u001b[0mA\u001b[0m\u001b[0;34m,\u001b[0m\u001b[0mk\u001b[0m\u001b[0;34m)\u001b[0m\u001b[0;34m)\u001b[0m\u001b[0;34m>\u001b[0m\u001b[0;36m0.00010\u001b[0m\u001b[0;34m:\u001b[0m\u001b[0;34m\u001b[0m\u001b[0;34m\u001b[0m\u001b[0m\n\u001b[0m\u001b[1;32m     13\u001b[0m \u001b[0;31m#             print(np.linalg.norm(np.linalg.matrix_power(A,k)))\u001b[0m\u001b[0;34m\u001b[0m\u001b[0;34m\u001b[0m\u001b[0;34m\u001b[0m\u001b[0m\n\u001b[1;32m     14\u001b[0m             \u001b[0mk\u001b[0m\u001b[0;34m+=\u001b[0m\u001b[0;36m1\u001b[0m\u001b[0;34m\u001b[0m\u001b[0;34m\u001b[0m\u001b[0m\n",
      "\u001b[0;32m<__array_function__ internals>\u001b[0m in \u001b[0;36mmatrix_power\u001b[0;34m(*args, **kwargs)\u001b[0m\n",
      "\u001b[0;32m~/miniconda3/envs/ml/lib/python3.7/site-packages/numpy/linalg/linalg.py\u001b[0m in \u001b[0;36mmatrix_power\u001b[0;34m(a, n)\u001b[0m\n\u001b[1;32m    660\u001b[0m     \u001b[0mz\u001b[0m \u001b[0;34m=\u001b[0m \u001b[0mresult\u001b[0m \u001b[0;34m=\u001b[0m \u001b[0;32mNone\u001b[0m\u001b[0;34m\u001b[0m\u001b[0;34m\u001b[0m\u001b[0m\n\u001b[1;32m    661\u001b[0m     \u001b[0;32mwhile\u001b[0m \u001b[0mn\u001b[0m \u001b[0;34m>\u001b[0m \u001b[0;36m0\u001b[0m\u001b[0;34m:\u001b[0m\u001b[0;34m\u001b[0m\u001b[0;34m\u001b[0m\u001b[0m\n\u001b[0;32m--> 662\u001b[0;31m         \u001b[0mz\u001b[0m \u001b[0;34m=\u001b[0m \u001b[0ma\u001b[0m \u001b[0;32mif\u001b[0m \u001b[0mz\u001b[0m \u001b[0;32mis\u001b[0m \u001b[0;32mNone\u001b[0m \u001b[0;32melse\u001b[0m \u001b[0mfmatmul\u001b[0m\u001b[0;34m(\u001b[0m\u001b[0mz\u001b[0m\u001b[0;34m,\u001b[0m \u001b[0mz\u001b[0m\u001b[0;34m)\u001b[0m\u001b[0;34m\u001b[0m\u001b[0;34m\u001b[0m\u001b[0m\n\u001b[0m\u001b[1;32m    663\u001b[0m         \u001b[0mn\u001b[0m\u001b[0;34m,\u001b[0m \u001b[0mbit\u001b[0m \u001b[0;34m=\u001b[0m \u001b[0mdivmod\u001b[0m\u001b[0;34m(\u001b[0m\u001b[0mn\u001b[0m\u001b[0;34m,\u001b[0m \u001b[0;36m2\u001b[0m\u001b[0;34m)\u001b[0m\u001b[0;34m\u001b[0m\u001b[0;34m\u001b[0m\u001b[0m\n\u001b[1;32m    664\u001b[0m         \u001b[0;32mif\u001b[0m \u001b[0mbit\u001b[0m\u001b[0;34m:\u001b[0m\u001b[0;34m\u001b[0m\u001b[0;34m\u001b[0m\u001b[0m\n",
      "\u001b[0;31mKeyboardInterrupt\u001b[0m: "
     ]
    }
   ],
   "source": [
    "pole_list = [0.01,0.05,0.1,0.25,0.5,0.75,.9, 1.0]\n",
    "mat_seeds = 100\n",
    "num_states = 3\n",
    "for pole in pole_list:\n",
    "    print(f\"Pole: {pole}\")\n",
    "    powers = []\n",
    "    for n in range(mat_seeds):\n",
    "        rand_mat = np.random.uniform(-1,1, size=(num_states, num_states))/(num_states/3)\n",
    "        A = np.triu(rand_mat,0)\n",
    "        np.fill_diagonal(A, float(pole))\n",
    "        k = 1\n",
    "        while 2*np.linalg.norm(np.linalg.matrix_power(A,k))>0.00010:\n",
    "#             print(np.linalg.norm(np.linalg.matrix_power(A,k)))\n",
    "            k+=1\n",
    "        powers.append(k)\n",
    "    print(f\"avg power {np.mean(powers)}\")\n"
   ]
  },
  {
   "cell_type": "code",
   "execution_count": null,
   "metadata": {},
   "outputs": [],
   "source": [
    "# Mean size of the target vector for different dynamic sizes\n",
    "\"\"\"\n",
    "DELTAS\n",
    "0.01: 0.019399836486284405, 0.06290805379085608\n",
    "0.05: 0.019645133311728458, 0.06618764834326221\n",
    "0.1: 0.018137109988743908, 0.051858998926834286\n",
    "0.25: 0.017272489421164886, 0.044004217915392566\n",
    "0.5: 0.019503937801066566, 0.04220026588571527\n",
    "0.75: 0.029282455186899408, 0.051737686208627606\n",
    "0.9: 0.08570542266396808, 0.1563825390995854\n",
    "0.95: 0.22486406495850977, 0.3514994343534149\n",
    "1.0: 7.4428548672612616, 11.163686172408772\n",
    "1.1: 65759.57297093523, 187229.08725502633\n",
    "\n",
    "TRUE STATE\n",
    "0.01: 0.011118659213419098, 0.020781506073406338\n",
    "0.05: 0.01221468782748427, 0.020367759998423263\n",
    "0.1: 0.012323858610876339, 0.025999536977505414\n",
    "0.25: 0.015545033005058075, 0.048218995133050356\n",
    "0.5: 0.03255557291631881, 0.08748597893670083\n",
    "0.75: 0.13420410878402209, 0.2986891150375797\n",
    "0.9: 1.2836740935481172, 2.6100991525053074\n",
    "0.95: 8.511008613353518, 14.30033183483969\n",
    "1.0: 201.18733010021114, 450.49579949873583\n",
    "1.1: 700465.5201592821, 1936024.7473710368\n",
    "\"\"\""
   ]
  }
 ],
 "metadata": {
  "kernelspec": {
   "display_name": "ml",
   "language": "python",
   "name": "ml"
  },
  "language_info": {
   "codemirror_mode": {
    "name": "ipython",
    "version": 3
   },
   "file_extension": ".py",
   "mimetype": "text/x-python",
   "name": "python",
   "nbconvert_exporter": "python",
   "pygments_lexer": "ipython3",
   "version": "3.7.6"
  }
 },
 "nbformat": 4,
 "nbformat_minor": 1
}
