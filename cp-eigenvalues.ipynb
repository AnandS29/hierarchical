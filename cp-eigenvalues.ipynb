{
 "cells": [
  {
   "cell_type": "markdown",
   "metadata": {},
   "source": [
    "# Calculations for Cartpole Eigenvalues"
   ]
  },
  {
   "cell_type": "code",
   "execution_count": 19,
   "metadata": {
    "scrolled": true
   },
   "outputs": [
    {
     "name": "stdout",
     "output_type": "stream",
     "text": [
      "======= A =======\n",
      "[[1.         0.02019729 0.         0.        ]\n",
      " [0.         1.01979334 0.         0.        ]\n",
      " [0.         0.         1.0043151  0.02002876]\n",
      " [0.         0.         0.43182005 1.0043151 ]]\n",
      "[1.09731413 0.91131607 1.         1.01979334]\n",
      "======= A - BK =======\n",
      "[[ -1.49977814  -4.78848863 -37.30568393  -7.96699431]]\n",
      "[0.94  0.95  0.956 0.96 ]\n",
      "[0.94  0.95  0.956 0.96 ]\n"
     ]
    }
   ],
   "source": [
    "import numpy as np\n",
    "from scipy import signal\n",
    "import scipy.integrate as integrate\n",
    "\n",
    "# original values\n",
    "m_c = 1\n",
    "m_p = 0.1\n",
    "l = 0.5\n",
    "g = 9.8\n",
    "a = g*m_p/m_c #0.98\n",
    "b = g*(m_c+m_p)/(l*m_c) #21.56\n",
    "sqrtb = np.sqrt(b)\n",
    "tau = 0.02\n",
    "e_a_tau = np.exp(a*tau)\n",
    "e_sqrtb_tau = np.exp(sqrtb*tau)\n",
    "e_2sqrtb_tau = np.exp(2*sqrtb*tau)\n",
    "e_negb_tau = np.exp(-sqrtb*tau)\n",
    "\n",
    "A_12 = 2*(e_a_tau-1)/a\n",
    "A_22 = 2*e_a_tau\n",
    "A_33 =e_negb_tau*(e_2sqrtb_tau + 1)\n",
    "A_34 = e_negb_tau*(e_2sqrtb_tau-1)/sqrtb\n",
    "A_43 = sqrtb*e_negb_tau*(e_2sqrtb_tau-1)\n",
    "A_44 = e_negb_tau*(e_2sqrtb_tau + 1)\n",
    "A = 0.5*np.array([[2, A_12, 0, 0],\n",
    "         [0, A_22, 0, 0],\n",
    "         [0, 0, A_33, A_34],\n",
    "         [0, 0, A_43, A_44]])\n",
    "print(\"======= A =======\")\n",
    "print(A)\n",
    "print(np.linalg.eigvals(A))\n",
    "\n",
    "# Now, we need to compute the B matrix for A-BK\n",
    "print(\"======= A - BK =======\")\n",
    "# B = np.array([[0],\n",
    "#               [1/m_c],\n",
    "#               [0],\n",
    "#               [-1/(l*m_c)]])\n",
    "\n",
    "\n",
    "B_2_f = lambda x: (1/m_c)*np.exp(a*x)\n",
    "B_4_f = lambda x: (-1/(2*l*m_c))*np.exp(-np.sqrt(b)*x)*(np.exp(2*np.sqrt(b)*x)+1)\n",
    "B_2 = integrate.quad(B_2_f, 0, tau)[0]\n",
    "B_4 = integrate.quad(B_4_f, 0, tau)[0]\n",
    "B = np.array([[0],\n",
    "              [B_2],\n",
    "              [0],\n",
    "              [B_4]])\n",
    "\n",
    "requested_poles = np.array([0.95, 0.94, 0.96, 0.956])\n",
    "# requested_poles = np.array([0.8, 0.82, 0.84, 0.86])\n",
    "\n",
    "out = signal.place_poles(A, B, requested_poles)\n",
    "print(out.gain_matrix)\n",
    "print(out.computed_poles)\n",
    "print(out.requested_poles)"
   ]
  },
  {
   "cell_type": "code",
   "execution_count": 20,
   "metadata": {},
   "outputs": [
    {
     "name": "stdout",
     "output_type": "stream",
     "text": [
      "======= A =======\n",
      "[[1.         0.02039717 0.         0.        ]\n",
      " [0.         1.03997846 0.         0.        ]\n",
      " [0.         0.         1.00942276 0.02006278]\n",
      " [0.         0.         0.94375313 1.00942276]]\n",
      "[1.14702476 0.87182076 1.         1.03997846]\n",
      "======= A - BK =======\n",
      "[[ -0.67341968  -3.77266595 -29.3239967   -4.10929736]]\n",
      "[0.94  0.95  0.956 0.96 ]\n",
      "[0.94  0.95  0.956 0.96 ]\n"
     ]
    }
   ],
   "source": [
    "# original values\n",
    "m_c = 1\n",
    "m_p = 0.2\n",
    "l = 0.25\n",
    "g = 9.8\n",
    "a = g*m_p/m_c\n",
    "b = g*(m_c+m_p)/(l*m_c) \n",
    "sqrtb = np.sqrt(b)\n",
    "tau = 0.02\n",
    "e_a_tau = np.exp(a*tau)\n",
    "e_sqrtb_tau = np.exp(sqrtb*tau)\n",
    "e_2sqrtb_tau = np.exp(2*sqrtb*tau)\n",
    "e_negb_tau = np.exp(-sqrtb*tau)\n",
    "\n",
    "A_12 = 2*(e_a_tau-1)/a\n",
    "A_22 = 2*e_a_tau\n",
    "A_33 =e_negb_tau*(e_2sqrtb_tau + 1)\n",
    "A_34 = e_negb_tau*(e_2sqrtb_tau-1)/sqrtb\n",
    "A_43 = sqrtb*e_negb_tau*(e_2sqrtb_tau-1)\n",
    "A_44 = e_negb_tau*(e_2sqrtb_tau + 1)\n",
    "A = 0.5*np.array([[2, A_12, 0, 0],\n",
    "         [0, A_22, 0, 0],\n",
    "         [0, 0, A_33, A_34],\n",
    "         [0, 0, A_43, A_44]])\n",
    "\n",
    "print(\"======= A =======\")\n",
    "print(A)\n",
    "print(np.linalg.eigvals(A))\n",
    "\n",
    "# Now, we need to compute the B matrix for A-BK\n",
    "print(\"======= A - BK =======\")\n",
    "# continuous time B\n",
    "# B = np.array([[0],\n",
    "#               [1/m_c],\n",
    "#               [0],\n",
    "#               [-1/(l*m_c)]])\n",
    "\n",
    "B_2_f = lambda x: (1/m_c)*np.exp(a*x)\n",
    "B_4_f = lambda x: (-1/(2*l*m_c))*np.exp(-np.sqrt(b)*x)*(np.exp(2*np.sqrt(b)*x)+1)\n",
    "B_2 = integrate.quad(B_2_f, 0, tau)[0]\n",
    "B_4 = integrate.quad(B_4_f, 0, tau)[0]\n",
    "B = np.array([[0],\n",
    "              [B_2],\n",
    "              [0],\n",
    "              [B_4]])\n",
    "\n",
    "\n",
    "requested_poles = np.array([0.95, 0.94, 0.96, 0.956])\n",
    "# requested_poles = np.array([0.8, 0.82, 0.84, 0.86])\n",
    "\n",
    "out = signal.place_poles(A, B, requested_poles)\n",
    "print(out.gain_matrix)\n",
    "print(out.computed_poles)\n",
    "print(out.requested_poles)"
   ]
  },
  {
   "cell_type": "code",
   "execution_count": null,
   "metadata": {},
   "outputs": [],
   "source": []
  }
 ],
 "metadata": {
  "kernelspec": {
   "display_name": "ml",
   "language": "python",
   "name": "ml"
  },
  "language_info": {
   "codemirror_mode": {
    "name": "ipython",
    "version": 3
   },
   "file_extension": ".py",
   "mimetype": "text/x-python",
   "name": "python",
   "nbconvert_exporter": "python",
   "pygments_lexer": "ipython3",
   "version": "3.7.6"
  }
 },
 "nbformat": 4,
 "nbformat_minor": 4
}
