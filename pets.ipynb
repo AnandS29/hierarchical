{
 "cells": [
  {
   "cell_type": "code",
   "execution_count": 1,
   "metadata": {},
   "outputs": [],
   "source": [
    "from IPython import display\n",
    "%matplotlib inline\n",
    "import matplotlib as mpl\n",
    "import matplotlib.pyplot as plt\n",
    "import numpy as np\n",
    "import torch\n",
    "import omegaconf\n",
    "\n",
    "import mbrl.env.cartpole_continuous as cartpole_env\n",
    "import mbrl.env.reward_fns as reward_fns\n",
    "import mbrl.env.termination_fns as termination_fns\n",
    "import mbrl.models as models\n",
    "import mbrl.planning as planning\n",
    "import mbrl.util.common as common_util\n",
    "import mbrl.util as util\n",
    "\n",
    "import gym\n",
    "\n",
    "from history_env import *\n",
    "\n",
    "mpl.rcParams.update({\"font.size\": 16})\n",
    "\n",
    "device = 'cuda:0' if torch.cuda.is_available() else 'cpu'"
   ]
  },
  {
   "cell_type": "code",
   "execution_count": 2,
   "metadata": {},
   "outputs": [],
   "source": [
    "# Create dynamics history environment\n",
    "dt = 0.01\n",
    "t_pred = 3\n",
    "outputs = [0, 1]\n",
    "seed = 0\n",
    "\n",
    "register_history_env(\"Dubins\", t_pred, outputs, dt=dt)\n",
    "env = gym.make('DubinsEnv-v0')\n",
    "env.seed(seed)\n",
    "\n",
    "rng = np.random.default_rng(seed=0)\n",
    "generator = torch.Generator(device=device)\n",
    "generator.manual_seed(seed)\n",
    "\n",
    "obs_shape = env.observation_space.shape\n",
    "act_shape = env.action_space.shape\n",
    "\n",
    "# This functions allows the model to evaluate the true rewards given an observation \n",
    "reward_fn = reward_fns.cartpole # TODO\n",
    "# This function allows the model to know if an observation should make the episode end\n",
    "term_fn = termination_fns.cartpole # TODO"
   ]
  },
  {
   "cell_type": "code",
   "execution_count": 3,
   "metadata": {},
   "outputs": [],
   "source": [
    "# Set up dynamics model\n",
    "\n",
    "trial_length = 200\n",
    "num_trials = 10\n",
    "ensemble_size = 5\n",
    "\n",
    "# Everything with \"???\" indicates an option with a missing value.\n",
    "# Our utility functions will fill in these details using the \n",
    "# environment information\n",
    "model_info = {\n",
    "    \"_target_\": \"mbrl.models.GaussianMLP\",\n",
    "    \"device\": device,\n",
    "    \"num_layers\": 3,\n",
    "    \"ensemble_size\": ensemble_size,\n",
    "    \"hid_size\": 200,\n",
    "    \"in_size\": \"???\",\n",
    "    \"out_size\": \"???\",\n",
    "    \"deterministic\": False,\n",
    "    \"propagation_method\": \"fixed_model\",\n",
    "    # can also configure activation function for GaussianMLP\n",
    "    \"activation_fn_cfg\": {\n",
    "        \"_target_\": \"torch.nn.LeakyReLU\",\n",
    "        \"negative_slope\": 0.01\n",
    "    }\n",
    "}\n",
    "# model_info[\"model\"] = model_info.copy()\n",
    "\n",
    "cfg_dict = {\n",
    "    # dynamics model configuration\n",
    "    \"dynamics_model\": model_info,\n",
    "    # options for training the dynamics model\n",
    "    \"algorithm\": {\n",
    "        \"learned_rewards\": False,\n",
    "        \"target_is_delta\": True,\n",
    "        \"normalize\": True,\n",
    "    },\n",
    "    # these are experiment specific options\n",
    "    \"overrides\": {\n",
    "        \"trial_length\": trial_length,\n",
    "        \"num_steps\": num_trials * trial_length,\n",
    "        \"model_batch_size\": 32,\n",
    "        \"validation_ratio\": 0.05\n",
    "    }\n",
    "}\n",
    "\n",
    "cfg = omegaconf.OmegaConf.create(cfg_dict)"
   ]
  },
  {
   "cell_type": "code",
   "execution_count": 4,
   "metadata": {},
   "outputs": [],
   "source": [
    "# Create a 1-D dynamics model for this environment\n",
    "dynamics_model = common_util.create_one_dim_tr_model(cfg, obs_shape, act_shape)\n",
    "\n",
    "# Create a gym-like environment to encapsulate the model\n",
    "model_env = models.ModelEnv(env, dynamics_model, term_fn, reward_fn, generator=generator)\n",
    "\n",
    "# Create replay buffer\n",
    "replay_buffer = common_util.create_replay_buffer(cfg, obs_shape, act_shape, rng=rng)"
   ]
  },
  {
   "cell_type": "code",
   "execution_count": 5,
   "metadata": {},
   "outputs": [
    {
     "name": "stdout",
     "output_type": "stream",
     "text": [
      "# samples stored 200\n"
     ]
    }
   ],
   "source": [
    "# Compute rollouts\n",
    "\n",
    "common_util.rollout_agent_trajectories(\n",
    "    env,\n",
    "    trial_length, # initial exploration steps\n",
    "    planning.RandomAgent(env),\n",
    "    {}, # keyword arguments to pass to agent.act()\n",
    "    replay_buffer=replay_buffer,\n",
    "    trial_length=trial_length\n",
    ")\n",
    "\n",
    "print(\"# samples stored\", replay_buffer.num_stored)"
   ]
  },
  {
   "cell_type": "code",
   "execution_count": 6,
   "metadata": {},
   "outputs": [],
   "source": [
    "# Setup CEM agent\n",
    "\n",
    "agent_cfg = omegaconf.OmegaConf.create({\n",
    "    # this class evaluates many trajectories and picks the best one\n",
    "    \"_target_\": \"mbrl.planning.TrajectoryOptimizerAgent\",\n",
    "    \"planning_horizon\": 15,\n",
    "    \"replan_freq\": 1,\n",
    "    \"verbose\": False,\n",
    "    \"action_lb\": \"???\",\n",
    "    \"action_ub\": \"???\",\n",
    "    # this is the optimizer to generate and choose a trajectory\n",
    "    \"optimizer_cfg\": {\n",
    "        \"_target_\": \"mbrl.planning.CEMOptimizer\",\n",
    "        \"num_iterations\": 5,\n",
    "        \"elite_ratio\": 0.1,\n",
    "        \"population_size\": 500,\n",
    "        \"alpha\": 0.1,\n",
    "        \"device\": device,\n",
    "        \"lower_bound\": \"???\",\n",
    "        \"upper_bound\": \"???\",\n",
    "        \"return_mean_elites\": True,\n",
    "        \"clipped_normal\": False\n",
    "    }\n",
    "})\n",
    "\n",
    "agent = planning.create_trajectory_optim_agent_for_model(\n",
    "    model_env,\n",
    "    agent_cfg,\n",
    "    num_particles=20\n",
    ")"
   ]
  },
  {
   "cell_type": "code",
   "execution_count": 7,
   "metadata": {},
   "outputs": [],
   "source": [
    "# Run PETS\n",
    "\n",
    "train_losses = []\n",
    "val_scores = []\n",
    "\n",
    "def train_callback(_model, _total_calls, _epoch, tr_loss, val_score, _best_val):\n",
    "    train_losses.append(tr_loss)\n",
    "    val_scores.append(val_score.mean().item())   # this returns val score per ensemble model\n",
    "\n",
    "def update_axes(_axs, _frame, _text, _trial, _steps_trial, _all_rewards, force_update=False):\n",
    "    if not force_update and (_steps_trial % 10 != 0):\n",
    "        return\n",
    "    _axs[0].imshow(_frame)\n",
    "    _axs[0].set_xticks([])\n",
    "    _axs[0].set_yticks([])\n",
    "    _axs[1].clear()\n",
    "    _axs[1].set_xlim([0, num_trials + .1])\n",
    "    _axs[1].set_ylim([0, 200])\n",
    "    _axs[1].set_xlabel(\"Trial\")\n",
    "    _axs[1].set_ylabel(\"Trial reward\")\n",
    "    _axs[1].plot(_all_rewards, 'bs-')\n",
    "    _text.set_text(f\"Trial {_trial + 1}: {_steps_trial} steps\")\n",
    "    display.display(plt.gcf())  \n",
    "    display.clear_output(wait=True)"
   ]
  },
  {
   "cell_type": "code",
   "execution_count": 8,
   "metadata": {},
   "outputs": [
    {
     "ename": "KeyboardInterrupt",
     "evalue": "",
     "output_type": "error",
     "traceback": [
      "\u001b[0;31m---------------------------------------------------------------------------\u001b[0m",
      "\u001b[0;31mKeyboardInterrupt\u001b[0m                         Traceback (most recent call last)",
      "\u001b[1;32m/Users/anandsranjan/Desktop/hybrid-workspace/mbrl-lib/hierarchical/pets.ipynb Cell 8'\u001b[0m in \u001b[0;36m<module>\u001b[0;34m\u001b[0m\n\u001b[1;32m     <a href='vscode-notebook-cell:/Users/anandsranjan/Desktop/hybrid-workspace/mbrl-lib/hierarchical/pets.ipynb#ch0000007?line=31'>32</a>\u001b[0m     model_trainer\u001b[39m.\u001b[39mtrain(\n\u001b[1;32m     <a href='vscode-notebook-cell:/Users/anandsranjan/Desktop/hybrid-workspace/mbrl-lib/hierarchical/pets.ipynb#ch0000007?line=32'>33</a>\u001b[0m         dataset_train, \n\u001b[1;32m     <a href='vscode-notebook-cell:/Users/anandsranjan/Desktop/hybrid-workspace/mbrl-lib/hierarchical/pets.ipynb#ch0000007?line=33'>34</a>\u001b[0m         dataset_val\u001b[39m=\u001b[39mdataset_val, \n\u001b[1;32m     <a href='vscode-notebook-cell:/Users/anandsranjan/Desktop/hybrid-workspace/mbrl-lib/hierarchical/pets.ipynb#ch0000007?line=34'>35</a>\u001b[0m         num_epochs\u001b[39m=\u001b[39m\u001b[39m50\u001b[39m, \n\u001b[1;32m     <a href='vscode-notebook-cell:/Users/anandsranjan/Desktop/hybrid-workspace/mbrl-lib/hierarchical/pets.ipynb#ch0000007?line=35'>36</a>\u001b[0m         patience\u001b[39m=\u001b[39m\u001b[39m50\u001b[39m, \n\u001b[1;32m     <a href='vscode-notebook-cell:/Users/anandsranjan/Desktop/hybrid-workspace/mbrl-lib/hierarchical/pets.ipynb#ch0000007?line=36'>37</a>\u001b[0m         callback\u001b[39m=\u001b[39mtrain_callback)\n\u001b[1;32m     <a href='vscode-notebook-cell:/Users/anandsranjan/Desktop/hybrid-workspace/mbrl-lib/hierarchical/pets.ipynb#ch0000007?line=38'>39</a>\u001b[0m \u001b[39m# --- Doing env step using the agent and adding to model dataset ---\u001b[39;00m\n\u001b[0;32m---> <a href='vscode-notebook-cell:/Users/anandsranjan/Desktop/hybrid-workspace/mbrl-lib/hierarchical/pets.ipynb#ch0000007?line=39'>40</a>\u001b[0m next_obs, reward, done, _ \u001b[39m=\u001b[39m common_util\u001b[39m.\u001b[39;49mstep_env_and_add_to_buffer(\n\u001b[1;32m     <a href='vscode-notebook-cell:/Users/anandsranjan/Desktop/hybrid-workspace/mbrl-lib/hierarchical/pets.ipynb#ch0000007?line=40'>41</a>\u001b[0m     env, obs, agent, {}, replay_buffer)\n\u001b[1;32m     <a href='vscode-notebook-cell:/Users/anandsranjan/Desktop/hybrid-workspace/mbrl-lib/hierarchical/pets.ipynb#ch0000007?line=42'>43</a>\u001b[0m \u001b[39m# update_axes(\u001b[39;00m\n\u001b[1;32m     <a href='vscode-notebook-cell:/Users/anandsranjan/Desktop/hybrid-workspace/mbrl-lib/hierarchical/pets.ipynb#ch0000007?line=43'>44</a>\u001b[0m \u001b[39m#     axs, env.render(mode=\"rgb_array\"), ax_text, trial, steps_trial, all_rewards)\u001b[39;00m\n\u001b[1;32m     <a href='vscode-notebook-cell:/Users/anandsranjan/Desktop/hybrid-workspace/mbrl-lib/hierarchical/pets.ipynb#ch0000007?line=45'>46</a>\u001b[0m obs \u001b[39m=\u001b[39m next_obs\n",
      "File \u001b[0;32m~/Desktop/hybrid-workspace/mbrl-lib/mbrl/util/common.py:599\u001b[0m, in \u001b[0;36mstep_env_and_add_to_buffer\u001b[0;34m(env, obs, agent, agent_kwargs, replay_buffer, callback, agent_uses_low_dim_obs)\u001b[0m\n\u001b[1;32m    597\u001b[0m \u001b[39melse\u001b[39;00m:\n\u001b[1;32m    598\u001b[0m     agent_obs \u001b[39m=\u001b[39m obs\n\u001b[0;32m--> 599\u001b[0m action \u001b[39m=\u001b[39m agent\u001b[39m.\u001b[39;49mact(agent_obs, \u001b[39m*\u001b[39;49m\u001b[39m*\u001b[39;49magent_kwargs)\n\u001b[1;32m    600\u001b[0m next_obs, reward, done, info \u001b[39m=\u001b[39m env\u001b[39m.\u001b[39mstep(action)\n\u001b[1;32m    601\u001b[0m replay_buffer\u001b[39m.\u001b[39madd(obs, action, next_obs, reward, done)\n",
      "File \u001b[0;32m~/Desktop/hybrid-workspace/mbrl-lib/mbrl/planning/trajectory_opt.py:684\u001b[0m, in \u001b[0;36mTrajectoryOptimizerAgent.act\u001b[0;34m(self, obs, optimizer_callback, **_kwargs)\u001b[0m\n\u001b[1;32m    681\u001b[0m     \u001b[39mreturn\u001b[39;00m \u001b[39mself\u001b[39m\u001b[39m.\u001b[39mtrajectory_eval_fn(obs, action_sequences)\n\u001b[1;32m    683\u001b[0m start_time \u001b[39m=\u001b[39m time\u001b[39m.\u001b[39mtime()\n\u001b[0;32m--> 684\u001b[0m plan \u001b[39m=\u001b[39m \u001b[39mself\u001b[39;49m\u001b[39m.\u001b[39;49moptimizer\u001b[39m.\u001b[39;49moptimize(\n\u001b[1;32m    685\u001b[0m     trajectory_eval_fn, callback\u001b[39m=\u001b[39;49moptimizer_callback\n\u001b[1;32m    686\u001b[0m )\n\u001b[1;32m    687\u001b[0m plan_time \u001b[39m=\u001b[39m time\u001b[39m.\u001b[39mtime() \u001b[39m-\u001b[39m start_time\n\u001b[1;32m    689\u001b[0m \u001b[39mself\u001b[39m\u001b[39m.\u001b[39mactions_to_use\u001b[39m.\u001b[39mextend([a \u001b[39mfor\u001b[39;00m a \u001b[39min\u001b[39;00m plan[: \u001b[39mself\u001b[39m\u001b[39m.\u001b[39mreplan_freq]])\n",
      "File \u001b[0;32m~/Desktop/hybrid-workspace/mbrl-lib/mbrl/planning/trajectory_opt.py:558\u001b[0m, in \u001b[0;36mTrajectoryOptimizer.optimize\u001b[0;34m(self, trajectory_eval_fn, callback)\u001b[0m\n\u001b[1;32m    539\u001b[0m \u001b[39mdef\u001b[39;00m \u001b[39moptimize\u001b[39m(\n\u001b[1;32m    540\u001b[0m     \u001b[39mself\u001b[39m,\n\u001b[1;32m    541\u001b[0m     trajectory_eval_fn: Callable[[torch\u001b[39m.\u001b[39mTensor], torch\u001b[39m.\u001b[39mTensor],\n\u001b[1;32m    542\u001b[0m     callback: Optional[Callable] \u001b[39m=\u001b[39m \u001b[39mNone\u001b[39;00m,\n\u001b[1;32m    543\u001b[0m ) \u001b[39m-\u001b[39m\u001b[39m>\u001b[39m np\u001b[39m.\u001b[39mndarray:\n\u001b[1;32m    544\u001b[0m     \u001b[39m\"\"\"Runs the trajectory optimization.\u001b[39;00m\n\u001b[1;32m    545\u001b[0m \n\u001b[1;32m    546\u001b[0m \u001b[39m    Args:\u001b[39;00m\n\u001b[0;32m   (...)\u001b[0m\n\u001b[1;32m    556\u001b[0m \u001b[39m        (tuple of np.ndarray and float): the best action sequence.\u001b[39;00m\n\u001b[1;32m    557\u001b[0m \u001b[39m    \"\"\"\u001b[39;00m\n\u001b[0;32m--> 558\u001b[0m     best_solution \u001b[39m=\u001b[39m \u001b[39mself\u001b[39;49m\u001b[39m.\u001b[39;49moptimizer\u001b[39m.\u001b[39;49moptimize(\n\u001b[1;32m    559\u001b[0m         trajectory_eval_fn,\n\u001b[1;32m    560\u001b[0m         x0\u001b[39m=\u001b[39;49m\u001b[39mself\u001b[39;49m\u001b[39m.\u001b[39;49mprevious_solution,\n\u001b[1;32m    561\u001b[0m         callback\u001b[39m=\u001b[39;49mcallback,\n\u001b[1;32m    562\u001b[0m     )\n\u001b[1;32m    563\u001b[0m     \u001b[39mif\u001b[39;00m \u001b[39mself\u001b[39m\u001b[39m.\u001b[39mkeep_last_solution:\n\u001b[1;32m    564\u001b[0m         \u001b[39mself\u001b[39m\u001b[39m.\u001b[39mprevious_solution \u001b[39m=\u001b[39m best_solution\u001b[39m.\u001b[39mroll(\u001b[39m-\u001b[39m\u001b[39mself\u001b[39m\u001b[39m.\u001b[39mreplan_freq, dims\u001b[39m=\u001b[39m\u001b[39m0\u001b[39m)\n",
      "File \u001b[0;32m~/Desktop/hybrid-workspace/mbrl-lib/mbrl/planning/trajectory_opt.py:172\u001b[0m, in \u001b[0;36mCEMOptimizer.optimize\u001b[0;34m(self, obj_fun, x0, callback, **kwargs)\u001b[0m\n\u001b[1;32m    170\u001b[0m \u001b[39mfor\u001b[39;00m i \u001b[39min\u001b[39;00m \u001b[39mrange\u001b[39m(\u001b[39mself\u001b[39m\u001b[39m.\u001b[39mnum_iterations):\n\u001b[1;32m    171\u001b[0m     population \u001b[39m=\u001b[39m \u001b[39mself\u001b[39m\u001b[39m.\u001b[39m_sample_population(mu, dispersion, population)\n\u001b[0;32m--> 172\u001b[0m     values \u001b[39m=\u001b[39m obj_fun(population)\n\u001b[1;32m    174\u001b[0m     \u001b[39mif\u001b[39;00m callback \u001b[39mis\u001b[39;00m \u001b[39mnot\u001b[39;00m \u001b[39mNone\u001b[39;00m:\n\u001b[1;32m    175\u001b[0m         callback(population, values, i)\n",
      "File \u001b[0;32m~/Desktop/hybrid-workspace/mbrl-lib/mbrl/planning/trajectory_opt.py:681\u001b[0m, in \u001b[0;36mTrajectoryOptimizerAgent.act.<locals>.trajectory_eval_fn\u001b[0;34m(action_sequences)\u001b[0m\n\u001b[1;32m    680\u001b[0m \u001b[39mdef\u001b[39;00m \u001b[39mtrajectory_eval_fn\u001b[39m(action_sequences):\n\u001b[0;32m--> 681\u001b[0m     \u001b[39mreturn\u001b[39;00m \u001b[39mself\u001b[39;49m\u001b[39m.\u001b[39;49mtrajectory_eval_fn(obs, action_sequences)\n",
      "File \u001b[0;32m~/Desktop/hybrid-workspace/mbrl-lib/mbrl/planning/trajectory_opt.py:744\u001b[0m, in \u001b[0;36mcreate_trajectory_optim_agent_for_model.<locals>.trajectory_eval_fn\u001b[0;34m(initial_state, action_sequences)\u001b[0m\n\u001b[1;32m    743\u001b[0m \u001b[39mdef\u001b[39;00m \u001b[39mtrajectory_eval_fn\u001b[39m(initial_state, action_sequences):\n\u001b[0;32m--> 744\u001b[0m     \u001b[39mreturn\u001b[39;00m model_env\u001b[39m.\u001b[39;49mevaluate_action_sequences(\n\u001b[1;32m    745\u001b[0m         action_sequences, initial_state\u001b[39m=\u001b[39;49minitial_state, num_particles\u001b[39m=\u001b[39;49mnum_particles\n\u001b[1;32m    746\u001b[0m     )\n",
      "File \u001b[0;32m~/Desktop/hybrid-workspace/mbrl-lib/mbrl/models/model_env.py:183\u001b[0m, in \u001b[0;36mModelEnv.evaluate_action_sequences\u001b[0;34m(self, action_sequences, initial_state, num_particles)\u001b[0m\n\u001b[1;32m    179\u001b[0m action_for_step \u001b[39m=\u001b[39m action_sequences[:, time_step, :]\n\u001b[1;32m    180\u001b[0m action_batch \u001b[39m=\u001b[39m torch\u001b[39m.\u001b[39mrepeat_interleave(\n\u001b[1;32m    181\u001b[0m     action_for_step, num_particles, dim\u001b[39m=\u001b[39m\u001b[39m0\u001b[39m\n\u001b[1;32m    182\u001b[0m )\n\u001b[0;32m--> 183\u001b[0m _, rewards, dones, model_state \u001b[39m=\u001b[39m \u001b[39mself\u001b[39;49m\u001b[39m.\u001b[39;49mstep(\n\u001b[1;32m    184\u001b[0m     action_batch, model_state, sample\u001b[39m=\u001b[39;49m\u001b[39mTrue\u001b[39;49;00m\n\u001b[1;32m    185\u001b[0m )\n\u001b[1;32m    186\u001b[0m rewards[terminated] \u001b[39m=\u001b[39m \u001b[39m0\u001b[39m\n\u001b[1;32m    187\u001b[0m terminated \u001b[39m|\u001b[39m\u001b[39m=\u001b[39m dones\n",
      "File \u001b[0;32m~/Desktop/hybrid-workspace/mbrl-lib/mbrl/models/model_env.py:118\u001b[0m, in \u001b[0;36mModelEnv.step\u001b[0;34m(self, actions, model_state, sample)\u001b[0m\n\u001b[1;32m    111\u001b[0m \u001b[39mif\u001b[39;00m \u001b[39misinstance\u001b[39m(actions, np\u001b[39m.\u001b[39mndarray):\n\u001b[1;32m    112\u001b[0m     actions \u001b[39m=\u001b[39m torch\u001b[39m.\u001b[39mfrom_numpy(actions)\u001b[39m.\u001b[39mto(\u001b[39mself\u001b[39m\u001b[39m.\u001b[39mdevice)\n\u001b[1;32m    113\u001b[0m (\n\u001b[1;32m    114\u001b[0m     next_observs,\n\u001b[1;32m    115\u001b[0m     pred_rewards,\n\u001b[1;32m    116\u001b[0m     pred_terminals,\n\u001b[1;32m    117\u001b[0m     next_model_state,\n\u001b[0;32m--> 118\u001b[0m ) \u001b[39m=\u001b[39m \u001b[39mself\u001b[39;49m\u001b[39m.\u001b[39;49mdynamics_model\u001b[39m.\u001b[39;49msample(\n\u001b[1;32m    119\u001b[0m     actions,\n\u001b[1;32m    120\u001b[0m     model_state,\n\u001b[1;32m    121\u001b[0m     deterministic\u001b[39m=\u001b[39;49m\u001b[39mnot\u001b[39;49;00m sample,\n\u001b[1;32m    122\u001b[0m     rng\u001b[39m=\u001b[39;49m\u001b[39mself\u001b[39;49m\u001b[39m.\u001b[39;49m_rng,\n\u001b[1;32m    123\u001b[0m )\n\u001b[1;32m    124\u001b[0m rewards \u001b[39m=\u001b[39m (\n\u001b[1;32m    125\u001b[0m     pred_rewards\n\u001b[1;32m    126\u001b[0m     \u001b[39mif\u001b[39;00m \u001b[39mself\u001b[39m\u001b[39m.\u001b[39mreward_fn \u001b[39mis\u001b[39;00m \u001b[39mNone\u001b[39;00m\n\u001b[1;32m    127\u001b[0m     \u001b[39melse\u001b[39;00m \u001b[39mself\u001b[39m\u001b[39m.\u001b[39mreward_fn(actions, next_observs)\n\u001b[1;32m    128\u001b[0m )\n\u001b[1;32m    129\u001b[0m dones \u001b[39m=\u001b[39m \u001b[39mself\u001b[39m\u001b[39m.\u001b[39mtermination_fn(actions, next_observs)\n",
      "File \u001b[0;32m~/Desktop/hybrid-workspace/mbrl-lib/mbrl/models/one_dim_tr_model.py:278\u001b[0m, in \u001b[0;36mOneDTransitionRewardModel.sample\u001b[0;34m(self, act, model_state, deterministic, rng)\u001b[0m\n\u001b[1;32m    274\u001b[0m \u001b[39mif\u001b[39;00m \u001b[39mnot\u001b[39;00m \u001b[39mhasattr\u001b[39m(\u001b[39mself\u001b[39m\u001b[39m.\u001b[39mmodel, \u001b[39m\"\u001b[39m\u001b[39msample_1d\u001b[39m\u001b[39m\"\u001b[39m):\n\u001b[1;32m    275\u001b[0m     \u001b[39mraise\u001b[39;00m \u001b[39mRuntimeError\u001b[39;00m(\n\u001b[1;32m    276\u001b[0m         \u001b[39m\"\u001b[39m\u001b[39mOneDTransitionRewardModel requires wrapped model to define method sample_1d\u001b[39m\u001b[39m\"\u001b[39m\n\u001b[1;32m    277\u001b[0m     )\n\u001b[0;32m--> 278\u001b[0m preds, next_model_state \u001b[39m=\u001b[39m \u001b[39mself\u001b[39;49m\u001b[39m.\u001b[39;49mmodel\u001b[39m.\u001b[39;49msample_1d(\n\u001b[1;32m    279\u001b[0m     model_in, model_state, rng\u001b[39m=\u001b[39;49mrng, deterministic\u001b[39m=\u001b[39;49mdeterministic\n\u001b[1;32m    280\u001b[0m )\n\u001b[1;32m    281\u001b[0m next_observs \u001b[39m=\u001b[39m preds[:, :\u001b[39m-\u001b[39m\u001b[39m1\u001b[39m] \u001b[39mif\u001b[39;00m \u001b[39mself\u001b[39m\u001b[39m.\u001b[39mlearned_rewards \u001b[39melse\u001b[39;00m preds\n\u001b[1;32m    282\u001b[0m \u001b[39mif\u001b[39;00m \u001b[39mself\u001b[39m\u001b[39m.\u001b[39mtarget_is_delta:\n",
      "File \u001b[0;32m~/Desktop/hybrid-workspace/mbrl-lib/mbrl/models/model.py:467\u001b[0m, in \u001b[0;36mEnsemble.sample_1d\u001b[0;34m(self, model_input, model_state, deterministic, rng)\u001b[0m\n\u001b[1;32m    458\u001b[0m     \u001b[39mreturn\u001b[39;00m (\n\u001b[1;32m    459\u001b[0m         \u001b[39mself\u001b[39m\u001b[39m.\u001b[39mforward(\n\u001b[1;32m    460\u001b[0m             model_input,\n\u001b[0;32m   (...)\u001b[0m\n\u001b[1;32m    464\u001b[0m         model_state,\n\u001b[1;32m    465\u001b[0m     )\n\u001b[1;32m    466\u001b[0m \u001b[39massert\u001b[39;00m rng \u001b[39mis\u001b[39;00m \u001b[39mnot\u001b[39;00m \u001b[39mNone\u001b[39;00m\n\u001b[0;32m--> 467\u001b[0m means, logvars \u001b[39m=\u001b[39m \u001b[39mself\u001b[39;49m\u001b[39m.\u001b[39;49mforward(\n\u001b[1;32m    468\u001b[0m     model_input, rng\u001b[39m=\u001b[39;49mrng, propagation_indices\u001b[39m=\u001b[39;49mmodel_state[\u001b[39m\"\u001b[39;49m\u001b[39mpropagation_indices\u001b[39;49m\u001b[39m\"\u001b[39;49m]\n\u001b[1;32m    469\u001b[0m )\n\u001b[1;32m    470\u001b[0m variances \u001b[39m=\u001b[39m logvars\u001b[39m.\u001b[39mexp()\n\u001b[1;32m    471\u001b[0m stds \u001b[39m=\u001b[39m torch\u001b[39m.\u001b[39msqrt(variances)\n",
      "File \u001b[0;32m~/Desktop/hybrid-workspace/mbrl-lib/mbrl/models/gaussian_mlp.py:278\u001b[0m, in \u001b[0;36mGaussianMLP.forward\u001b[0;34m(self, x, rng, propagation_indices, use_propagation)\u001b[0m\n\u001b[1;32m    225\u001b[0m \u001b[39m\"\"\"Computes mean and logvar predictions for the given input.\u001b[39;00m\n\u001b[1;32m    226\u001b[0m \n\u001b[1;32m    227\u001b[0m \u001b[39mWhen ``self.num_members > 1``, the model supports uncertainty propagation options\u001b[39;00m\n\u001b[0;32m   (...)\u001b[0m\n\u001b[1;32m    275\u001b[0m \n\u001b[1;32m    276\u001b[0m \u001b[39m\"\"\"\u001b[39;00m\n\u001b[1;32m    277\u001b[0m \u001b[39mif\u001b[39;00m use_propagation:\n\u001b[0;32m--> 278\u001b[0m     \u001b[39mreturn\u001b[39;00m \u001b[39mself\u001b[39;49m\u001b[39m.\u001b[39;49m_forward_ensemble(\n\u001b[1;32m    279\u001b[0m         x, rng\u001b[39m=\u001b[39;49mrng, propagation_indices\u001b[39m=\u001b[39;49mpropagation_indices\n\u001b[1;32m    280\u001b[0m     )\n\u001b[1;32m    281\u001b[0m \u001b[39mreturn\u001b[39;00m \u001b[39mself\u001b[39m\u001b[39m.\u001b[39m_default_forward(x)\n",
      "File \u001b[0;32m~/Desktop/hybrid-workspace/mbrl-lib/mbrl/models/gaussian_mlp.py:212\u001b[0m, in \u001b[0;36mGaussianMLP._forward_ensemble\u001b[0;34m(self, x, rng, propagation_indices)\u001b[0m\n\u001b[1;32m    208\u001b[0m     \u001b[39mif\u001b[39;00m propagation_indices \u001b[39mis\u001b[39;00m \u001b[39mNone\u001b[39;00m:\n\u001b[1;32m    209\u001b[0m         \u001b[39mraise\u001b[39;00m \u001b[39mValueError\u001b[39;00m(\n\u001b[1;32m    210\u001b[0m             \u001b[39m\"\u001b[39m\u001b[39mWhen using propagation=\u001b[39m\u001b[39m'\u001b[39m\u001b[39mfixed_model\u001b[39m\u001b[39m'\u001b[39m\u001b[39m, `propagation_indices` must be provided.\u001b[39m\u001b[39m\"\u001b[39m\n\u001b[1;32m    211\u001b[0m         )\n\u001b[0;32m--> 212\u001b[0m     \u001b[39mreturn\u001b[39;00m \u001b[39mself\u001b[39;49m\u001b[39m.\u001b[39;49m_forward_from_indices(x, propagation_indices)\n\u001b[1;32m    213\u001b[0m \u001b[39mif\u001b[39;00m \u001b[39mself\u001b[39m\u001b[39m.\u001b[39mpropagation_method \u001b[39m==\u001b[39m \u001b[39m\"\u001b[39m\u001b[39mexpectation\u001b[39m\u001b[39m\"\u001b[39m:\n\u001b[1;32m    214\u001b[0m     mean, logvar \u001b[39m=\u001b[39m \u001b[39mself\u001b[39m\u001b[39m.\u001b[39m_default_forward(x, only_elite\u001b[39m=\u001b[39m\u001b[39mTrue\u001b[39;00m)\n",
      "File \u001b[0;32m~/Desktop/hybrid-workspace/mbrl-lib/mbrl/models/gaussian_mlp.py:168\u001b[0m, in \u001b[0;36mGaussianMLP._forward_from_indices\u001b[0;34m(self, x, model_shuffle_indices)\u001b[0m\n\u001b[1;32m    161\u001b[0m num_models \u001b[39m=\u001b[39m (\n\u001b[1;32m    162\u001b[0m     \u001b[39mlen\u001b[39m(\u001b[39mself\u001b[39m\u001b[39m.\u001b[39melite_models) \u001b[39mif\u001b[39;00m \u001b[39mself\u001b[39m\u001b[39m.\u001b[39melite_models \u001b[39mis\u001b[39;00m \u001b[39mnot\u001b[39;00m \u001b[39mNone\u001b[39;00m \u001b[39melse\u001b[39;00m \u001b[39mlen\u001b[39m(\u001b[39mself\u001b[39m)\n\u001b[1;32m    163\u001b[0m )\n\u001b[1;32m    164\u001b[0m shuffled_x \u001b[39m=\u001b[39m x[:, model_shuffle_indices, \u001b[39m.\u001b[39m\u001b[39m.\u001b[39m\u001b[39m.\u001b[39m]\u001b[39m.\u001b[39mview(\n\u001b[1;32m    165\u001b[0m     num_models, batch_size \u001b[39m/\u001b[39m\u001b[39m/\u001b[39m num_models, \u001b[39m-\u001b[39m\u001b[39m1\u001b[39m\n\u001b[1;32m    166\u001b[0m )\n\u001b[0;32m--> 168\u001b[0m mean, logvar \u001b[39m=\u001b[39m \u001b[39mself\u001b[39;49m\u001b[39m.\u001b[39;49m_default_forward(shuffled_x, only_elite\u001b[39m=\u001b[39;49m\u001b[39mTrue\u001b[39;49;00m)\n\u001b[1;32m    169\u001b[0m \u001b[39m# note that mean and logvar are shuffled\u001b[39;00m\n\u001b[1;32m    170\u001b[0m mean \u001b[39m=\u001b[39m mean\u001b[39m.\u001b[39mview(batch_size, \u001b[39m-\u001b[39m\u001b[39m1\u001b[39m)\n",
      "File \u001b[0;32m~/Desktop/hybrid-workspace/mbrl-lib/mbrl/models/gaussian_mlp.py:144\u001b[0m, in \u001b[0;36mGaussianMLP._default_forward\u001b[0;34m(self, x, only_elite, **_kwargs)\u001b[0m\n\u001b[1;32m    140\u001b[0m \u001b[39mdef\u001b[39;00m \u001b[39m_default_forward\u001b[39m(\n\u001b[1;32m    141\u001b[0m     \u001b[39mself\u001b[39m, x: torch\u001b[39m.\u001b[39mTensor, only_elite: \u001b[39mbool\u001b[39m \u001b[39m=\u001b[39m \u001b[39mFalse\u001b[39;00m, \u001b[39m*\u001b[39m\u001b[39m*\u001b[39m_kwargs\n\u001b[1;32m    142\u001b[0m ) \u001b[39m-\u001b[39m\u001b[39m>\u001b[39m Tuple[torch\u001b[39m.\u001b[39mTensor, Optional[torch\u001b[39m.\u001b[39mTensor]]:\n\u001b[1;32m    143\u001b[0m     \u001b[39mself\u001b[39m\u001b[39m.\u001b[39m_maybe_toggle_layers_use_only_elite(only_elite)\n\u001b[0;32m--> 144\u001b[0m     x \u001b[39m=\u001b[39m \u001b[39mself\u001b[39;49m\u001b[39m.\u001b[39;49mhidden_layers(x)\n\u001b[1;32m    145\u001b[0m     mean_and_logvar \u001b[39m=\u001b[39m \u001b[39mself\u001b[39m\u001b[39m.\u001b[39mmean_and_logvar(x)\n\u001b[1;32m    146\u001b[0m     \u001b[39mself\u001b[39m\u001b[39m.\u001b[39m_maybe_toggle_layers_use_only_elite(only_elite)\n",
      "File \u001b[0;32m/usr/local/lib/python3.9/site-packages/torch/nn/modules/module.py:1102\u001b[0m, in \u001b[0;36mModule._call_impl\u001b[0;34m(self, *input, **kwargs)\u001b[0m\n\u001b[1;32m   1098\u001b[0m \u001b[39m# If we don't have any hooks, we want to skip the rest of the logic in\u001b[39;00m\n\u001b[1;32m   1099\u001b[0m \u001b[39m# this function, and just call forward.\u001b[39;00m\n\u001b[1;32m   1100\u001b[0m \u001b[39mif\u001b[39;00m \u001b[39mnot\u001b[39;00m (\u001b[39mself\u001b[39m\u001b[39m.\u001b[39m_backward_hooks \u001b[39mor\u001b[39;00m \u001b[39mself\u001b[39m\u001b[39m.\u001b[39m_forward_hooks \u001b[39mor\u001b[39;00m \u001b[39mself\u001b[39m\u001b[39m.\u001b[39m_forward_pre_hooks \u001b[39mor\u001b[39;00m _global_backward_hooks\n\u001b[1;32m   1101\u001b[0m         \u001b[39mor\u001b[39;00m _global_forward_hooks \u001b[39mor\u001b[39;00m _global_forward_pre_hooks):\n\u001b[0;32m-> 1102\u001b[0m     \u001b[39mreturn\u001b[39;00m forward_call(\u001b[39m*\u001b[39;49m\u001b[39minput\u001b[39;49m, \u001b[39m*\u001b[39;49m\u001b[39m*\u001b[39;49mkwargs)\n\u001b[1;32m   1103\u001b[0m \u001b[39m# Do not call functions when jit is used\u001b[39;00m\n\u001b[1;32m   1104\u001b[0m full_backward_hooks, non_full_backward_hooks \u001b[39m=\u001b[39m [], []\n",
      "File \u001b[0;32m/usr/local/lib/python3.9/site-packages/torch/nn/modules/container.py:141\u001b[0m, in \u001b[0;36mSequential.forward\u001b[0;34m(self, input)\u001b[0m\n\u001b[1;32m    139\u001b[0m \u001b[39mdef\u001b[39;00m \u001b[39mforward\u001b[39m(\u001b[39mself\u001b[39m, \u001b[39minput\u001b[39m):\n\u001b[1;32m    140\u001b[0m     \u001b[39mfor\u001b[39;00m module \u001b[39min\u001b[39;00m \u001b[39mself\u001b[39m:\n\u001b[0;32m--> 141\u001b[0m         \u001b[39minput\u001b[39m \u001b[39m=\u001b[39m module(\u001b[39minput\u001b[39m)\n\u001b[1;32m    142\u001b[0m     \u001b[39mreturn\u001b[39;00m \u001b[39minput\u001b[39m\n",
      "\u001b[0;31mKeyboardInterrupt\u001b[0m: "
     ]
    },
    {
     "data": {
      "image/png": "[encoded data removed]",
      "text/plain": [
       "<Figure size 1008x270 with 2 Axes>"
      ]
     },
     "metadata": {
      "needs_background": "light"
     },
     "output_type": "display_data"
    }
   ],
   "source": [
    "# Create a trainer for the model\n",
    "model_trainer = models.ModelTrainer(dynamics_model, optim_lr=1e-3, weight_decay=5e-5)\n",
    "\n",
    "# Create visualization objects\n",
    "fig, axs = plt.subplots(1, 2, figsize=(14, 3.75), gridspec_kw={\"width_ratios\": [1, 1]})\n",
    "ax_text = axs[0].text(300, 50, \"\")\n",
    "    \n",
    "# Main PETS loop\n",
    "all_rewards = [0]\n",
    "for trial in range(num_trials):\n",
    "    obs = env.reset()    \n",
    "    agent.reset()\n",
    "    \n",
    "    done = False\n",
    "    total_reward = 0.0\n",
    "    steps_trial = 0\n",
    "    # update_axes(axs, env.render(mode=\"rgb_array\"), ax_text, trial, steps_trial, all_rewards)\n",
    "    while not done:\n",
    "        # --------------- Model Training -----------------\n",
    "        if steps_trial == 0:\n",
    "            dynamics_model.update_normalizer(replay_buffer.get_all())  # update normalizer stats\n",
    "            \n",
    "            dataset_train, dataset_val = common_util.get_basic_buffer_iterators(\n",
    "                replay_buffer,\n",
    "                batch_size=cfg.overrides.model_batch_size,\n",
    "                val_ratio=cfg.overrides.validation_ratio,\n",
    "                ensemble_size=ensemble_size,\n",
    "                shuffle_each_epoch=True,\n",
    "                bootstrap_permutes=False,  # build bootstrap dataset using sampling with replacement\n",
    "            )\n",
    "                \n",
    "            model_trainer.train(\n",
    "                dataset_train, \n",
    "                dataset_val=dataset_val, \n",
    "                num_epochs=50, \n",
    "                patience=50, \n",
    "                callback=train_callback,\n",
    "                silent=True)\n",
    "\n",
    "        # --- Doing env step using the agent and adding to model dataset ---\n",
    "        next_obs, reward, done, _ = common_util.step_env_and_add_to_buffer(\n",
    "            env, obs, agent, {}, replay_buffer)\n",
    "            \n",
    "        # update_axes(\n",
    "        #     axs, env.render(mode=\"rgb_array\"), ax_text, trial, steps_trial, all_rewards)\n",
    "        \n",
    "        obs = next_obs\n",
    "        total_reward += reward\n",
    "        steps_trial += 1\n",
    "        \n",
    "        if steps_trial == trial_length:\n",
    "            break\n",
    "    \n",
    "    all_rewards.append(total_reward)\n",
    "\n",
    "# update_axes(axs, env.render(mode=\"rgb_array\"), ax_text, trial, steps_trial, all_rewards, force_update=True)"
   ]
  },
  {
   "cell_type": "code",
   "execution_count": null,
   "metadata": {},
   "outputs": [
    {
     "ename": "",
     "evalue": "",
     "output_type": "error",
     "traceback": [
      "\u001b[1;31mRunning cells with 'Python ('mbrl_env')' requires ipykernel package.\n",
      "Run the following command to install 'ipykernel' into the Python environment. \n",
      "Command: 'conda install -n mbrl_env ipykernel --update-deps --force-reinstall'"
     ]
    }
   ],
   "source": [
    "fig, ax = plt.subplots(2, 1, figsize=(12, 10))\n",
    "ax[0].plot(train_losses)\n",
    "ax[0].set_xlabel(\"Total training epochs\")\n",
    "ax[0].set_ylabel(\"Training loss (avg. NLL)\")\n",
    "ax[1].plot(val_scores)\n",
    "ax[1].set_xlabel(\"Total training epochs\")\n",
    "ax[1].set_ylabel(\"Validation score (avg. MSE)\")\n",
    "plt.show()"
   ]
  }
 ],
 "metadata": {
  "kernelspec": {
   "display_name": "Python 3.9.12 64-bit",
   "language": "python",
   "name": "python3"
  },
  "language_info": {
   "codemirror_mode": {
    "name": "ipython",
    "version": 3
   },
   "file_extension": ".py",
   "mimetype": "text/x-python",
   "name": "python",
   "nbconvert_exporter": "python",
   "pygments_lexer": "ipython3",
   "version": "3.9.12"
  },
  "orig_nbformat": 4,
  "vscode": {
   "interpreter": {
    "hash": "aee8b7b246df8f9039afb4144a1f6fd8d2ca17a180786b69acc140d282b71a49"
   }
  }
 },
 "nbformat": 4,
 "nbformat_minor": 2
}
